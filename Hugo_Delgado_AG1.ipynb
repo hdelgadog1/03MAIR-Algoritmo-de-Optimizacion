{
  "nbformat": 4,
  "nbformat_minor": 0,
  "metadata": {
    "colab": {
      "name": "Hugo Delgado - AG1.ipynb",
      "provenance": [],
      "collapsed_sections": [],
      "authorship_tag": "ABX9TyMl6hIKz4NaoS1ZUas+KCpj",
      "include_colab_link": true
    },
    "kernelspec": {
      "name": "python3",
      "display_name": "Python 3"
    }
  },
  "cells": [
    {
      "cell_type": "markdown",
      "metadata": {
        "id": "view-in-github",
        "colab_type": "text"
      },
      "source": [
        "<a href=\"https://colab.research.google.com/github/hdelgadog1/03MAIR-Algoritmo-de-Optimizacion/blob/master/Hugo_Delgado_AG1.ipynb\" target=\"_parent\"><img src=\"https://colab.research.google.com/assets/colab-badge.svg\" alt=\"Open In Colab\"/></a>"
      ]
    },
    {
      "cell_type": "code",
      "metadata": {
        "id": "-UluQZ0GtIr6",
        "colab_type": "code",
        "colab": {}
      },
      "source": [
        ""
      ],
      "execution_count": null,
      "outputs": []
    },
    {
      "cell_type": "markdown",
      "metadata": {
        "id": "veH5sWGKtUmQ",
        "colab_type": "text"
      },
      "source": [
        "# Actividad Guiada 1 de Algoritmos de Optimizacion. AG1\n",
        "Hugo Delgado\n",
        "https://colab.research.google.com/drive/1F0kiNH4DEB-wWmp25_wJttvDq6C1uYFG?usp=sharing\n"
      ]
    },
    {
      "cell_type": "code",
      "metadata": {
        "id": "s3hF8Ecgu0M0",
        "colab_type": "code",
        "colab": {}
      },
      "source": [
        "# Funcion de reloj, para medir tiempo de ejecucion\n",
        "import random\n",
        "from functools import wraps\n",
        "from time import time\n",
        "\n",
        "def calcular_tiempo(f):\n",
        "    @wraps(f)\n",
        "    def cronometro(*args, **kwargs):\n",
        "        t_inicial = time()\n",
        "        salida = f(*args, **kwargs)\n",
        "        t_final = time()\n",
        "        print('Tiempo transcurrido (en segundos): {}'.format(t_final - t_inicial))\n",
        "        return salida\n",
        "    return cronometro\n",
        "import random"
      ],
      "execution_count": null,
      "outputs": []
    },
    {
      "cell_type": "code",
      "metadata": {
        "id": "lPjUdDc10DlH",
        "colab_type": "code",
        "colab": {
          "base_uri": "https://localhost:8080/",
          "height": 272
        },
        "outputId": "6e645cba-0285-431f-e65a-4b45b86f675e"
      },
      "source": [
        "#Problema de las torres de hanoi\n",
        "def Torres_hanoi(N,desde,hasta):\n",
        "  \n",
        "  if N == 1:\n",
        "    print(\"Mueve desde la \" + str(desde) + \"hasta \" + str(hasta))\n",
        "  else:\n",
        "    Torres_hanoi(N-1,desde,6-hasta-desde)\n",
        "    print(\"Mueve desde la \" + str(desde) + \"hasta \" + str(hasta))\n",
        "    Torres_hanoi(N-1,6-hasta-desde,hasta)\n",
        "\n",
        "Torres_hanoi(4,1,3)"
      ],
      "execution_count": null,
      "outputs": [
        {
          "output_type": "stream",
          "text": [
            "Mueve desde la 1hasta 2\n",
            "Mueve desde la 1hasta 3\n",
            "Mueve desde la 2hasta 3\n",
            "Mueve desde la 1hasta 2\n",
            "Mueve desde la 3hasta 1\n",
            "Mueve desde la 3hasta 2\n",
            "Mueve desde la 1hasta 2\n",
            "Mueve desde la 1hasta 3\n",
            "Mueve desde la 2hasta 3\n",
            "Mueve desde la 2hasta 1\n",
            "Mueve desde la 3hasta 1\n",
            "Mueve desde la 2hasta 3\n",
            "Mueve desde la 1hasta 2\n",
            "Mueve desde la 1hasta 3\n",
            "Mueve desde la 2hasta 3\n"
          ],
          "name": "stdout"
        }
      ]
    },
    {
      "cell_type": "code",
      "metadata": {
        "id": "vqeiOP--2jyC",
        "colab_type": "code",
        "colab": {
          "base_uri": "https://localhost:8080/",
          "height": 51
        },
        "outputId": "b616f0c5-7c20-4fb0-85f5-e625a7711186"
      },
      "source": [
        "#Algoritmo Voraz para devolucion del cambio\n",
        "Sistema_Monetario = [25,10,5,1]\n",
        "@calcular_tiempo\n",
        "def cambio_moneda(N=1,SM=Sistema_Monetario):\n",
        "  ValorAcumulado = 0\n",
        "  SOL = [0]*len(SM)\n",
        "\n",
        "  for i,m in enumerate(SM):\n",
        "    monedas = int((N - ValorAcumulado)/m)\n",
        "    SOL[i] = monedas\n",
        "    ValorAcumulado = ValorAcumulado + monedas*m\n",
        "\n",
        "    if ValorAcumulado == N:\n",
        "      return SOL\n",
        "print(cambio_moneda(N=124,SM=Sistema_Monetario))\n",
        "                                                   \n"
      ],
      "execution_count": null,
      "outputs": [
        {
          "output_type": "stream",
          "text": [
            "Tiempo transcurrido (en segundos): 6.67572021484375e-06\n",
            "[4, 2, 0, 4]\n"
          ],
          "name": "stdout"
        }
      ]
    },
    {
      "cell_type": "code",
      "metadata": {
        "id": "X9LQU11N96fW",
        "colab_type": "code",
        "colab": {
          "base_uri": "https://localhost:8080/",
          "height": 85
        },
        "outputId": "d984aad5-8e85-4ae7-b2f4-618490cf0fb1"
      },
      "source": [
        "#Algoritmo con la tecnica vuelta atras para el problema de las N-Reinas\n",
        "def es_prometedora(solucion,etapa):\n",
        "  for i in range(etapa+1):\n",
        "    if solucion.count(solucion[i])>1:\n",
        "      return False\n",
        "    for j in range(i+1,etapa+1):\n",
        "      if abs(i-j) == abs(solucion[i]-solucion[j]):\n",
        "        return False\n",
        "\n",
        "  return True\n",
        "  \n",
        "\n",
        "def reinas(n,solucion=[],etapa=0): # tamano del tablero\n",
        "  if len(solucion) == 0:\n",
        "      solucion=[0 for i in range(n)]\n",
        "  for i in range(1,n+1):\n",
        "    solucion[etapa] = i\n",
        "\n",
        "    if es_prometedora(solucion,etapa):\n",
        "      if etapa == n-1:\n",
        "        print(\"\\n\\nLa solucion es\")\n",
        "        print(solucion)\n",
        "      else:\n",
        "        reinas(n,solucion,etapa+1)\n",
        "    else:\n",
        "        None\n",
        "reinas(4)\n"
      ],
      "execution_count": null,
      "outputs": [
        {
          "output_type": "stream",
          "text": [
            "\n",
            "\n",
            "La solucion es\n",
            "[3, 1, 4, 2]\n"
          ],
          "name": "stdout"
        }
      ]
    },
    {
      "cell_type": "markdown",
      "metadata": {
        "id": "uP5zvF7OJ6WV",
        "colab_type": "text"
      },
      "source": [
        "Practica individual, dado un conjunto de datos encontrar los puntos mas cercanos\n",
        "Suponer 1D"
      ]
    },
    {
      "cell_type": "code",
      "metadata": {
        "id": "lDgZOBpzL_-y",
        "colab_type": "code",
        "colab": {
          "base_uri": "https://localhost:8080/",
          "height": 105
        },
        "outputId": "b6c82282-be19-4104-be80-fee04e028b4b"
      },
      "source": [
        "import random\n",
        "l = 1000\n",
        "\n",
        "Lista_1D = [random.randrange(1,100) for x in range(l)]\n",
        "\n",
        "def Distancia_Minima(Lista):\n",
        "  i = 0\n",
        "  Dif = []\n",
        "  while i < len(Lista) - 1:\n",
        "    Diferencia = abs(Lista[i] - Lista[i+1])\n",
        "    Dif.append(Diferencia)\n",
        "    i += 1\n",
        "  min_val = min(Dif)\n",
        "  Val1,Val2 = Lista[Dif.index(min_val)],Lista[Dif.index(min_val)+1]\n",
        "  print('Lista : ' + str(Lista))\n",
        "  print('Diferencia de valores mas cercanos : ' + str(min_val))\n",
        "  print('Indice de valores mas cercanos : ' + str(Dif.index(min_val)) + ',' + str(Dif.index(min_val)+1))\n",
        "  return Val1,Val2\n",
        "\n",
        "print(Distancia_Minima(Lista_1D))\n"
      ],
      "execution_count": null,
      "outputs": [
        {
          "output_type": "stream",
          "text": [
            "Lista : [26, 44, 31, 50, 77, 91, 33, 47, 65, 93, 98, 99, 35, 55, 13, 12, 67, 69, 96, 23, 68, 68, 30, 2, 66, 78, 89, 37, 76, 71, 28, 94, 50, 35, 61, 76, 55, 76, 15, 84, 96, 23, 12, 99, 52, 27, 48, 66, 61, 51, 60, 41, 67, 85, 57, 64, 36, 94, 77, 64, 1, 19, 58, 92, 81, 82, 63, 8, 93, 27, 76, 55, 29, 33, 89, 18, 58, 53, 47, 1, 95, 38, 7, 58, 50, 88, 95, 42, 2, 2, 76, 99, 59, 17, 87, 39, 26, 80, 77, 4, 31, 30, 99, 9, 20, 79, 2, 35, 31, 10, 17, 59, 86, 48, 33, 79, 12, 9, 28, 78, 47, 13, 67, 3, 78, 72, 4, 44, 12, 55, 87, 36, 17, 78, 84, 48, 83, 27, 12, 77, 47, 25, 89, 44, 80, 44, 97, 36, 59, 21, 75, 89, 5, 41, 76, 42, 83, 11, 2, 35, 88, 85, 77, 69, 95, 50, 26, 66, 42, 40, 63, 25, 80, 83, 47, 96, 26, 5, 55, 67, 29, 88, 78, 88, 18, 22, 39, 25, 23, 20, 24, 48, 94, 48, 61, 83, 70, 5, 1, 12, 81, 58, 17, 84, 72, 17, 96, 86, 61, 89, 57, 87, 13, 52, 21, 15, 26, 80, 40, 71, 48, 93, 1, 38, 71, 95, 17, 3, 92, 16, 92, 85, 92, 48, 14, 56, 14, 50, 77, 99, 58, 43, 93, 83, 74, 12, 92, 27, 25, 44, 70, 81, 83, 65, 3, 63, 42, 54, 13, 49, 79, 18, 80, 86, 73, 62, 38, 80, 71, 80, 89, 57, 27, 3, 64, 36, 51, 85, 60, 45, 55, 84, 89, 23, 11, 86, 87, 88, 42, 31, 44, 25, 17, 46, 9, 98, 27, 72, 86, 70, 36, 15, 97, 64, 73, 46, 70, 52, 18, 12, 5, 6, 6, 29, 86, 19, 43, 50, 88, 49, 76, 50, 73, 51, 55, 97, 86, 44, 60, 62, 91, 46, 40, 63, 22, 26, 33, 98, 82, 74, 17, 27, 79, 27, 16, 38, 41, 48, 23, 56, 7, 54, 14, 42, 77, 89, 13, 77, 25, 93, 32, 42, 83, 41, 97, 1, 60, 23, 31, 3, 2, 63, 28, 14, 76, 2, 81, 83, 91, 74, 96, 84, 43, 5, 91, 78, 7, 26, 29, 91, 49, 97, 34, 32, 10, 59, 49, 92, 61, 65, 93, 46, 99, 5, 95, 46, 9, 60, 84, 48, 49, 97, 20, 25, 19, 94, 60, 82, 35, 1, 47, 3, 84, 93, 73, 98, 29, 77, 75, 93, 32, 12, 18, 35, 52, 22, 42, 11, 61, 35, 3, 3, 31, 94, 84, 21, 71, 82, 34, 93, 67, 9, 43, 35, 36, 23, 73, 18, 29, 55, 88, 7, 21, 38, 36, 62, 73, 53, 7, 33, 62, 29, 95, 62, 44, 95, 58, 76, 58, 17, 83, 46, 78, 70, 45, 91, 47, 76, 71, 69, 67, 52, 69, 88, 7, 35, 28, 22, 67, 41, 41, 87, 8, 54, 68, 53, 61, 12, 94, 77, 96, 21, 37, 92, 48, 16, 9, 29, 7, 72, 86, 50, 73, 4, 66, 79, 6, 68, 65, 78, 53, 81, 84, 55, 25, 74, 80, 78, 59, 50, 86, 55, 96, 4, 20, 99, 97, 84, 52, 98, 42, 84, 58, 49, 85, 72, 34, 42, 59, 11, 75, 33, 38, 28, 78, 76, 87, 24, 25, 32, 4, 84, 89, 32, 22, 14, 38, 26, 77, 3, 92, 36, 76, 52, 87, 55, 88, 97, 97, 8, 34, 13, 26, 11, 32, 79, 35, 8, 9, 90, 66, 6, 8, 12, 22, 35, 54, 82, 33, 39, 29, 50, 8, 15, 35, 77, 13, 12, 28, 69, 23, 24, 77, 93, 53, 10, 75, 11, 24, 20, 58, 58, 47, 28, 40, 5, 39, 23, 67, 8, 8, 28, 19, 51, 50, 63, 77, 11, 55, 3, 65, 15, 88, 2, 23, 81, 76, 82, 39, 62, 37, 25, 25, 51, 87, 44, 42, 65, 60, 95, 77, 14, 63, 92, 26, 44, 91, 50, 2, 48, 16, 21, 33, 74, 70, 36, 65, 32, 82, 71, 14, 46, 76, 86, 25, 95, 39, 82, 99, 31, 55, 26, 80, 97, 84, 25, 42, 28, 13, 20, 45, 62, 4, 36, 76, 9, 59, 40, 74, 95, 17, 57, 17, 16, 37, 67, 50, 56, 54, 83, 15, 56, 38, 3, 22, 36, 64, 26, 94, 50, 60, 16, 3, 8, 90, 61, 76, 73, 36, 37, 47, 7, 57, 30, 45, 8, 32, 77, 93, 56, 59, 99, 35, 3, 6, 74, 94, 91, 66, 41, 40, 2, 55, 27, 22, 99, 5, 91, 5, 19, 86, 2, 62, 1, 22, 53, 7, 1, 99, 91, 49, 44, 40, 86, 84, 83, 58, 97, 93, 42, 31, 85, 63, 60, 51, 84, 96, 98, 40, 34, 53, 86, 69, 58, 39, 56, 87, 58, 73, 23, 20, 74, 35, 55, 94, 70, 2, 60, 26, 20, 38, 83, 73, 62, 10, 15, 92, 69, 74, 4, 59, 25, 25, 97, 73, 8, 60, 57, 48, 42, 13, 40, 18, 89, 98, 60, 79, 74, 59, 43, 50, 34, 44, 15, 26, 10, 85, 91, 86, 89, 66, 70, 33, 48, 88, 13, 76, 28, 12, 68, 43, 97, 24, 43, 87, 5, 33, 52, 6, 11, 80, 15, 97, 45, 82, 62, 94, 29, 13, 81, 57, 44, 25, 37, 11, 42, 43, 10, 38, 35, 77, 17, 64, 61, 25, 84, 3, 28, 2, 32, 2, 88, 99, 33, 84, 10, 11, 56, 77, 57, 53, 92, 45, 10, 72, 90, 18, 98, 56, 42, 25, 18, 30, 76, 17, 34, 89, 39, 16, 92, 25, 52, 19, 48, 73, 62, 99, 80, 34, 65, 23, 91, 6, 10, 5, 55, 99, 58, 93, 35, 18, 94, 54, 3, 24, 86, 5, 96, 71, 30, 47, 50, 66, 52, 26, 37, 15, 57, 45, 80, 39, 45, 78, 43, 72, 67, 82, 6, 19, 10]\n",
            "Diferencia de valores mas cercanos : 0\n",
            "Indice de valores mas cercanos : 20,21\n",
            "(68, 68)\n"
          ],
          "name": "stdout"
        }
      ]
    },
    {
      "cell_type": "code",
      "metadata": {
        "id": "EaOW5V28RZwK",
        "colab_type": "code",
        "colab": {}
      },
      "source": [
        ""
      ],
      "execution_count": null,
      "outputs": []
    },
    {
      "cell_type": "code",
      "metadata": {
        "id": "EZ7Z48dlw1-E",
        "colab_type": "code",
        "colab": {}
      },
      "source": [
        ""
      ],
      "execution_count": null,
      "outputs": []
    }
  ]
}