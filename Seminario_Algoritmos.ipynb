{
  "nbformat": 4,
  "nbformat_minor": 0,
  "metadata": {
    "colab": {
      "name": "Seminario - Algoritmos.ipynb",
      "provenance": [],
      "collapsed_sections": [],
      "include_colab_link": true
    },
    "kernelspec": {
      "name": "python3",
      "display_name": "Python 3"
    }
  },
  "cells": [
    {
      "cell_type": "markdown",
      "metadata": {
        "id": "view-in-github",
        "colab_type": "text"
      },
      "source": [
        "<a href=\"https://colab.research.google.com/github/hdelgadog1/03MAIR-Algoritmo-de-Optimizacion/blob/master/Seminario_Algoritmos.ipynb\" target=\"_parent\"><img src=\"https://colab.research.google.com/assets/colab-badge.svg\" alt=\"Open In Colab\"/></a>"
      ]
    },
    {
      "cell_type": "markdown",
      "metadata": {
        "id": "hVbXYX-RfPWh",
        "colab_type": "text"
      },
      "source": [
        "# Algoritmos de optimización - Seminario<br>\n",
        "Nombre y Apellidos:  Hugo David Delgado Gil <br>\n",
        "Url: https://github.com/.../03MAIR---Algoritmos-de-Optimizacion---2019/tree/master/SEMINARIO<br>\n",
        "Problema:\n",
        "> 1. Sesiones de doblaje <br>\n",
        ">2. Organizar los horarios de partidos de La Liga<br>\n",
        ">3. Combinar cifras y operaciones\n",
        "\n",
        "Descripción del problema:(Problema 3)\n",
        "\n",
        "El problema consiste en analizar el siguiente problema y disenar un algoritmo que lo resuelva.\n",
        "Disponemos de las cifras del 1 al 9 (excluimos el cero) y de los 4 signos basicos de las operaciones fundamentales : suma(+), resta (-), multiplicacion(*), y division (/).\n",
        "Debemos combinarlos alternativamente sin repetir ninguno de ellos para obtener una cantidad dada. Un ejemplo seria para obtener el 4:\n",
        "\n",
        "4 + 2 -6/3 * 1 = 4\n",
        "\n",
        "Debe analizarse el problema para encontrar todos los valores enteros posibles planteando las siguientes cuestiones\n",
        "\n",
        "Que valor maximo y minimo se pueden obtener segun las condiciones del problema?\n",
        "Es posible encontrar todos los valores enteros posibles entre dicho minimo y maximo?\n",
        "\n",
        "Nota: es posible usar la funcion \"eval\" para evaluar la expresion.\n",
        "\n",
        "(*) La respuesta es obligatoria\n",
        "\n",
        "\n",
        "\n",
        "\n",
        "\n",
        "                                        "
      ]
    },
    {
      "cell_type": "markdown",
      "metadata": {
        "id": "4ss2IJpmxPo1",
        "colab_type": "text"
      },
      "source": [
        "El numero maximo seria \n",
        "\n",
        "9 * 8 + 7 - 1/6\n",
        "\n",
        "y el numero minimo seria \n",
        "\n",
        "1 - 9 * 8 + 2/7\n"
      ]
    },
    {
      "cell_type": "code",
      "metadata": {
        "id": "AiskKkzZfy4e",
        "colab_type": "code",
        "colab": {
          "base_uri": "https://localhost:8080/",
          "height": 51
        },
        "outputId": "ab353e60-4443-4349-9620-9b90640ecbb8"
      },
      "source": [
        "print(\"El valor maximo es: \" + str(eval(str(9 * 8 + 7 - 1/6)))) \n",
        "print(\"El valor minimo es: \" + str(eval(str(1 - 9 * 8 + 2/7)))) "
      ],
      "execution_count": null,
      "outputs": [
        {
          "output_type": "stream",
          "text": [
            "El valor maximo es: 78.83333333333333\n",
            "El valor minimo es: -70.71428571428571\n"
          ],
          "name": "stdout"
        }
      ]
    },
    {
      "cell_type": "markdown",
      "metadata": {
        "id": "3_-exlrTgLd-",
        "colab_type": "text"
      },
      "source": [
        "(*)¿Cuantas posibilidades hay sin tener en cuenta las restricciones?<br>\n",
        "\n",
        "\n",
        "\n",
        "¿Cuantas posibilidades hay teniendo en cuenta todas las restricciones.\n",
        "\n",
        "\n"
      ]
    },
    {
      "cell_type": "markdown",
      "metadata": {
        "id": "WfCUqJyKhPcw",
        "colab_type": "text"
      },
      "source": [
        "Respuesta"
      ]
    },
    {
      "cell_type": "markdown",
      "metadata": {
        "id": "hvjm6ggp3Tar",
        "colab_type": "text"
      },
      "source": [
        "Sin tener en cuenta las restricciones las posibilidades son infinitas."
      ]
    },
    {
      "cell_type": "markdown",
      "metadata": {
        "id": "Q9ZCSWeV3aQ-",
        "colab_type": "text"
      },
      "source": [
        "Teniendo en cuenta las restricciones se tiene:\n",
        "\n",
        "Combinatoria 5 numeros de 9:\n",
        "9!/(5!(9-5)! = 126\n",
        "estos se pueden ordenar de 5 diferentes maneras:\n",
        "5! = 120\n",
        "y se tienen un total de 4 operaciones:\n",
        "4! = 24\n",
        "\n",
        "por lo que en total se tendria:\n",
        "\n",
        "126 * 120 * 24 = 362880 posibles soluciones\n"
      ]
    },
    {
      "cell_type": "markdown",
      "metadata": {
        "id": "dzynfVJahHoY",
        "colab_type": "text"
      },
      "source": [
        "Modelo para el espacio de soluciones<br>\n",
        "(*) ¿Cual es la estructura de datos que mejor se adapta al problema? Argumentalo.(Es posible que hayas elegido una al principio y veas la necesidad de cambiar, arguentalo)\n"
      ]
    },
    {
      "cell_type": "markdown",
      "metadata": {
        "id": "xFIJrOwKi2Ti",
        "colab_type": "text"
      },
      "source": [
        "Respuesta"
      ]
    },
    {
      "cell_type": "markdown",
      "metadata": {
        "id": "gDxklOiS5ETm",
        "colab_type": "text"
      },
      "source": [
        "Se uso listas para almacenar los numeros y operaciones, asi tambien se utilizo el algortimo de vuelta atras en el que se cambio los numeros con las operaciones fijas. dado que este es un problema de busqueda se puede usar algoritmos de arboles de deciciones"
      ]
    },
    {
      "cell_type": "markdown",
      "metadata": {
        "id": "7Z9U2W7bi-XS",
        "colab_type": "text"
      },
      "source": [
        "Según el modelo para el espacio de soluciones<br>\n",
        "(*)¿Cual es la función objetivo?\n",
        "\n",
        "(*)¿Es un problema de maximización o minimización?"
      ]
    },
    {
      "cell_type": "markdown",
      "metadata": {
        "id": "hBalWLM7j1_d",
        "colab_type": "text"
      },
      "source": [
        "Respuesta"
      ]
    },
    {
      "cell_type": "markdown",
      "metadata": {
        "id": "NIHElUJErwim",
        "colab_type": "text"
      },
      "source": [
        "La funcion objetivo es obtener una cantidad dada sin repetir ninguno de los numeros(1-9) usando tan solo 5 de ellos.\n",
        "Este es un problema de busqueda.\n",
        "Por lo que no podriamos considerarlo un problema de maximizacion o minimizacion, dado que mientras avanzamos en la busqueda de la solucion nos acercamos o alejamos al valor requerido.\n"
      ]
    },
    {
      "cell_type": "markdown",
      "metadata": {
        "id": "rlnTYgY1j6I2",
        "colab_type": "text"
      },
      "source": [
        "Diseña un algoritmo para resolver el problema por fuerza bruta"
      ]
    },
    {
      "cell_type": "markdown",
      "metadata": {
        "id": "70rDgxYXkC8r",
        "colab_type": "text"
      },
      "source": [
        "Respuesta"
      ]
    },
    {
      "cell_type": "code",
      "metadata": {
        "id": "CJb5sQ0qkENy",
        "colab_type": "code",
        "colab": {
          "base_uri": "https://localhost:8080/",
          "height": 51
        },
        "outputId": "31e6501b-dcde-44b1-f38c-1527926deb06"
      },
      "source": [
        "#funcion que calcula el tiempo de ejecucion en una funcion\n",
        "from functools import wraps\n",
        "from time import time\n",
        "\n",
        "def timing(f):\n",
        "  @wraps(f)\n",
        "  def wrap(*args,**Kw):\n",
        "    ts = time()\n",
        "    result = f(*args, **Kw)\n",
        "    te = time()\n",
        "    print(te-ts)\n",
        "    return result\n",
        "  return wrap\n",
        "\n",
        "# algoritmo de fuerza bruta\n",
        "\n",
        "from itertools import permutations\n",
        "\n",
        "@timing\n",
        "def fuerza_bruta(numero):\n",
        "  numeros = list(range(1,10))\n",
        "  operadores = ['+','-','*','/']\n",
        "  numeros_permutados = list(permutations(numeros,5))\n",
        "  operadores_permutados   = list(permutations(operadores,4))\n",
        "  resultados = []\n",
        "  for lista_numeros in numeros_permutados:\n",
        "    for lista_operadores in operadores_permutados:\n",
        "      combinaciones = '{}{}{}{}{}{}{}{}{}'.format(lista_numeros[0],lista_operadores[0],lista_numeros[1],lista_operadores[1],lista_numeros[2],lista_operadores[2],lista_numeros[3],lista_operadores[3],lista_numeros[4])\n",
        "\n",
        "      if eval(combinaciones) == numero:\n",
        "        resultados.append(combinaciones)\n",
        "  return resultados\n",
        "\n",
        "print(fuerza_bruta(78.8))\n",
        "\n"
      ],
      "execution_count": 12,
      "outputs": [
        {
          "output_type": "stream",
          "text": [
            "2.691729784011841\n",
            "['7-1/5+8*9', '7-1/5+9*8', '7+8*9-1/5', '7+9*8-1/5', '8*9-1/5+7', '8*9+7-1/5', '9*8-1/5+7', '9*8+7-1/5']\n"
          ],
          "name": "stdout"
        }
      ]
    },
    {
      "cell_type": "markdown",
      "metadata": {
        "id": "tgrnsC2nkFa8",
        "colab_type": "text"
      },
      "source": [
        "Calcula la complejidad del algoritmo por fuerza bruta"
      ]
    },
    {
      "cell_type": "markdown",
      "metadata": {
        "id": "9eUd3xwckP68",
        "colab_type": "text"
      },
      "source": [
        "Respuesta"
      ]
    },
    {
      "cell_type": "markdown",
      "metadata": {
        "id": "hLG2CL9npHJ0",
        "colab_type": "text"
      },
      "source": [
        "El algoritmo de fuerza bruta tiene un complejidad de O(n^2)."
      ]
    },
    {
      "cell_type": "markdown",
      "metadata": {
        "id": "txbrmLmskReM",
        "colab_type": "text"
      },
      "source": [
        "(*)Diseña un algoritmo que mejore la complejidad del algortimo por fuerza bruta. Argumenta porque crees que mejora el algoritmo por fuerza bruta"
      ]
    },
    {
      "cell_type": "markdown",
      "metadata": {
        "id": "hLrVwt5QkZPD",
        "colab_type": "text"
      },
      "source": [
        "Respuesta segun lo revisado ambos algoritmos tienen un tiempo similar de ejecucion, no hay una mejora significativa."
      ]
    },
    {
      "cell_type": "code",
      "metadata": {
        "id": "m1eyM21Vkabg",
        "colab_type": "code",
        "colab": {
          "base_uri": "https://localhost:8080/",
          "height": 51
        },
        "outputId": "2efc3328-efbf-4554-a9eb-8df0e1cd6a2a"
      },
      "source": [
        "# algoritmo divide y venceras\n",
        "numeros = list(range(1,10))\n",
        "operadores = ['+','-','*','/']\n",
        "numeros_permutados = list(permutations(numeros,5))\n",
        "operadores_permutados   = list(permutations(operadores,4))\n",
        "\n",
        "def divide_venceras(lista_numeros,lista_operadores,numero):\n",
        "  if len(lista_numeros) <= 1:\n",
        "    soluciones = []\n",
        "    for operadores in lista_operadores:\n",
        "      combinaciones = '{}{}{}{}{}{}{}{}{}'.format(lista_numeros[0][0],operadores[0],lista_numeros[0][1],operadores[1],lista_numeros[0][2],operadores[2],lista_numeros[0][3],operadores[3],lista_numeros[0][4])\n",
        "\n",
        "      if eval(combinaciones) == numero:\n",
        "        soluciones.append(combinaciones)\n",
        "    return soluciones\n",
        "  \n",
        "  else:\n",
        "    lista_izq = lista_numeros[:round(len(lista_numeros)/2)]\n",
        "    lista_der = lista_numeros[round(len(lista_numeros)/2):]\n",
        "    resultado_izq = divide_venceras(lista_izq,lista_operadores,numero)\n",
        "    resultado_der = divide_venceras(lista_der,lista_operadores,numero)\n",
        "\n",
        "    return resultado_izq + resultado_der\n",
        "\n",
        "@timing\n",
        "def ejec_divide_venceras(lista_numeros,lista_operadores,numero):\n",
        "  return divide_venceras(lista_numeros,lista_operadores,numero)\n",
        "\n",
        "print(ejec_divide_venceras(numeros_permutados,operadores_permutados,78.8))\n",
        "\n"
      ],
      "execution_count": 13,
      "outputs": [
        {
          "output_type": "stream",
          "text": [
            "2.829594612121582\n",
            "['7-1/5+8*9', '7-1/5+9*8', '7+8*9-1/5', '7+9*8-1/5', '8*9-1/5+7', '8*9+7-1/5', '9*8-1/5+7', '9*8+7-1/5']\n"
          ],
          "name": "stdout"
        }
      ]
    },
    {
      "cell_type": "markdown",
      "metadata": {
        "id": "eGDB4K6uk1iN",
        "colab_type": "text"
      },
      "source": [
        "(*)Calcula la complejidad del algoritmo "
      ]
    },
    {
      "cell_type": "markdown",
      "metadata": {
        "id": "NhpTh_BPk1ms",
        "colab_type": "text"
      },
      "source": [
        "Respuesta"
      ]
    },
    {
      "cell_type": "markdown",
      "metadata": {
        "id": "GxC2ZJYF5rQo",
        "colab_type": "text"
      },
      "source": [
        "la complejidad se reduce a O(nlogn) por lo que mientras mas combinaciones se puedan ejecutar, este algoritmo sera mas eficiente que el de fuerza bruta"
      ]
    },
    {
      "cell_type": "markdown",
      "metadata": {
        "id": "3M6QjTsSkmYe",
        "colab_type": "text"
      },
      "source": [
        "Según el problema (y tenga sentido), diseña un juego de datos de entrada aleatorios"
      ]
    },
    {
      "cell_type": "markdown",
      "metadata": {
        "id": "Jc3_OlyNkvjZ",
        "colab_type": "text"
      },
      "source": [
        "Respuesta se generara un conjunto de datos comprendidos entre los maximos y minimos (-70.71,78.8) se tomaran los numeros enteros -70 y 78"
      ]
    },
    {
      "cell_type": "code",
      "metadata": {
        "id": "sJ-N2etjkyWc",
        "colab_type": "code",
        "colab": {
          "base_uri": "https://localhost:8080/",
          "height": 1000
        },
        "outputId": "a4b26a6f-a8bd-4803-a8a0-c058b54c2ebc"
      },
      "source": [
        "#Revicion de los valores entre -70 y 78\n",
        "for x in range(-70,78):\n",
        "  print('Para el valor {}, se han encontrado {} soluciones'.format(x, len(fuerza_bruta(x))))"
      ],
      "execution_count": 16,
      "outputs": [
        {
          "output_type": "stream",
          "text": [
            "2.8498551845550537\n",
            "Para el valor -70, se han encontrado 0 soluciones\n",
            "2.7712600231170654\n",
            "Para el valor -69, se han encontrado 16 soluciones\n",
            "2.727410078048706\n",
            "Para el valor -68, se han encontrado 16 soluciones\n",
            "2.727712869644165\n",
            "Para el valor -67, se han encontrado 40 soluciones\n",
            "2.6614091396331787\n",
            "Para el valor -66, se han encontrado 48 soluciones\n",
            "2.6663403511047363\n",
            "Para el valor -65, se han encontrado 88 soluciones\n",
            "2.72078800201416\n",
            "Para el valor -64, se han encontrado 80 soluciones\n",
            "2.6767280101776123\n",
            "Para el valor -63, se han encontrado 112 soluciones\n",
            "2.667869806289673\n",
            "Para el valor -62, se han encontrado 72 soluciones\n",
            "2.6688568592071533\n",
            "Para el valor -61, se han encontrado 64 soluciones\n",
            "2.696439743041992\n",
            "Para el valor -60, se han encontrado 56 soluciones\n",
            "2.674339771270752\n",
            "Para el valor -59, se han encontrado 56 soluciones\n",
            "2.661813974380493\n",
            "Para el valor -58, se han encontrado 56 soluciones\n",
            "2.668785333633423\n",
            "Para el valor -57, se han encontrado 48 soluciones\n",
            "2.6878538131713867\n",
            "Para el valor -56, se han encontrado 104 soluciones\n",
            "2.7286205291748047\n",
            "Para el valor -55, se han encontrado 96 soluciones\n",
            "2.6638858318328857\n",
            "Para el valor -54, se han encontrado 72 soluciones\n",
            "2.730973720550537\n",
            "Para el valor -53, se han encontrado 104 soluciones\n",
            "2.6756155490875244\n",
            "Para el valor -52, se han encontrado 96 soluciones\n",
            "2.695653200149536\n",
            "Para el valor -51, se han encontrado 96 soluciones\n",
            "2.6612625122070312\n",
            "Para el valor -50, se han encontrado 88 soluciones\n",
            "2.66481351852417\n",
            "Para el valor -49, se han encontrado 184 soluciones\n",
            "2.6965723037719727\n",
            "Para el valor -48, se han encontrado 120 soluciones\n",
            "2.6555335521698\n",
            "Para el valor -47, se han encontrado 160 soluciones\n",
            "2.7326817512512207\n",
            "Para el valor -46, se han encontrado 72 soluciones\n",
            "2.7068331241607666\n",
            "Para el valor -45, se han encontrado 176 soluciones\n",
            "2.6996703147888184\n",
            "Para el valor -44, se han encontrado 120 soluciones\n",
            "2.669085741043091\n",
            "Para el valor -43, se han encontrado 152 soluciones\n",
            "2.695796489715576\n",
            "Para el valor -42, se han encontrado 152 soluciones\n",
            "2.6743929386138916\n",
            "Para el valor -41, se han encontrado 168 soluciones\n",
            "2.7065138816833496\n",
            "Para el valor -40, se han encontrado 96 soluciones\n",
            "2.6717305183410645\n",
            "Para el valor -39, se han encontrado 168 soluciones\n",
            "2.668423652648926\n",
            "Para el valor -38, se han encontrado 104 soluciones\n",
            "2.667436122894287\n",
            "Para el valor -37, se han encontrado 208 soluciones\n",
            "2.6940550804138184\n",
            "Para el valor -36, se han encontrado 208 soluciones\n",
            "2.667947769165039\n",
            "Para el valor -35, se han encontrado 304 soluciones\n",
            "2.690345525741577\n",
            "Para el valor -34, se han encontrado 208 soluciones\n",
            "2.678468704223633\n",
            "Para el valor -33, se han encontrado 128 soluciones\n",
            "2.68090558052063\n",
            "Para el valor -32, se han encontrado 200 soluciones\n",
            "2.664266586303711\n",
            "Para el valor -31, se han encontrado 296 soluciones\n",
            "2.7209973335266113\n",
            "Para el valor -30, se han encontrado 264 soluciones\n",
            "2.6883115768432617\n",
            "Para el valor -29, se han encontrado 288 soluciones\n",
            "2.695169448852539\n",
            "Para el valor -28, se han encontrado 256 soluciones\n",
            "2.678919792175293\n",
            "Para el valor -27, se han encontrado 288 soluciones\n",
            "2.6562509536743164\n",
            "Para el valor -26, se han encontrado 184 soluciones\n",
            "2.6765058040618896\n",
            "Para el valor -25, se han encontrado 376 soluciones\n",
            "2.7377755641937256\n",
            "Para el valor -24, se han encontrado 352 soluciones\n",
            "2.68143630027771\n",
            "Para el valor -23, se han encontrado 376 soluciones\n",
            "2.7138147354125977\n",
            "Para el valor -22, se han encontrado 176 soluciones\n",
            "2.665870189666748\n",
            "Para el valor -21, se han encontrado 336 soluciones\n",
            "2.7231485843658447\n",
            "Para el valor -20, se han encontrado 384 soluciones\n",
            "2.6733996868133545\n",
            "Para el valor -19, se han encontrado 416 soluciones\n",
            "2.6775317192077637\n",
            "Para el valor -18, se han encontrado 440 soluciones\n",
            "2.696627140045166\n",
            "Para el valor -17, se han encontrado 488 soluciones\n",
            "2.7211718559265137\n",
            "Para el valor -16, se han encontrado 432 soluciones\n",
            "2.712232828140259\n",
            "Para el valor -15, se han encontrado 552 soluciones\n",
            "2.713815450668335\n",
            "Para el valor -14, se han encontrado 504 soluciones\n",
            "2.688297986984253\n",
            "Para el valor -13, se han encontrado 552 soluciones\n",
            "2.6833150386810303\n",
            "Para el valor -12, se han encontrado 512 soluciones\n",
            "2.6758713722229004\n",
            "Para el valor -11, se han encontrado 648 soluciones\n",
            "2.6814661026000977\n",
            "Para el valor -10, se han encontrado 624 soluciones\n",
            "2.6775012016296387\n",
            "Para el valor -9, se han encontrado 768 soluciones\n",
            "2.690582513809204\n",
            "Para el valor -8, se han encontrado 680 soluciones\n",
            "2.676068067550659\n",
            "Para el valor -7, se han encontrado 960 soluciones\n",
            "2.6582748889923096\n",
            "Para el valor -6, se han encontrado 736 soluciones\n",
            "2.7019782066345215\n",
            "Para el valor -5, se han encontrado 1136 soluciones\n",
            "2.6729421615600586\n",
            "Para el valor -4, se han encontrado 1096 soluciones\n",
            "2.6642119884490967\n",
            "Para el valor -3, se han encontrado 1232 soluciones\n",
            "2.6840579509735107\n",
            "Para el valor -2, se han encontrado 1272 soluciones\n",
            "2.688872814178467\n",
            "Para el valor -1, se han encontrado 1688 soluciones\n",
            "2.6855416297912598\n",
            "Para el valor 0, se han encontrado 1888 soluciones\n",
            "2.6584246158599854\n",
            "Para el valor 1, se han encontrado 2008 soluciones\n",
            "2.6597983837127686\n",
            "Para el valor 2, se han encontrado 1688 soluciones\n",
            "2.6588797569274902\n",
            "Para el valor 3, se han encontrado 1952 soluciones\n",
            "2.6760644912719727\n",
            "Para el valor 4, se han encontrado 2112 soluciones\n",
            "2.668755292892456\n",
            "Para el valor 5, se han encontrado 2880 soluciones\n",
            "2.6934478282928467\n",
            "Para el valor 6, se han encontrado 2200 soluciones\n",
            "2.672377824783325\n",
            "Para el valor 7, se han encontrado 2824 soluciones\n",
            "2.649094343185425\n",
            "Para el valor 8, se han encontrado 2376 soluciones\n",
            "2.694251537322998\n",
            "Para el valor 9, se han encontrado 2584 soluciones\n",
            "2.6735503673553467\n",
            "Para el valor 10, se han encontrado 2120 soluciones\n",
            "2.7077901363372803\n",
            "Para el valor 11, se han encontrado 2256 soluciones\n",
            "2.6616711616516113\n",
            "Para el valor 12, se han encontrado 1512 soluciones\n",
            "2.672200918197632\n",
            "Para el valor 13, se han encontrado 2160 soluciones\n",
            "2.6583616733551025\n",
            "Para el valor 14, se han encontrado 1880 soluciones\n",
            "2.678382158279419\n",
            "Para el valor 15, se han encontrado 1800 soluciones\n",
            "2.678875207901001\n",
            "Para el valor 16, se han encontrado 1568 soluciones\n",
            "2.6639859676361084\n",
            "Para el valor 17, se han encontrado 1928 soluciones\n",
            "2.6824467182159424\n",
            "Para el valor 18, se han encontrado 1344 soluciones\n",
            "2.678349494934082\n",
            "Para el valor 19, se han encontrado 1616 soluciones\n",
            "2.650667905807495\n",
            "Para el valor 20, se han encontrado 1344 soluciones\n",
            "2.6719183921813965\n",
            "Para el valor 21, se han encontrado 1224 soluciones\n",
            "2.6988718509674072\n",
            "Para el valor 22, se han encontrado 1352 soluciones\n",
            "2.667849063873291\n",
            "Para el valor 23, se han encontrado 1208 soluciones\n",
            "2.7207894325256348\n",
            "Para el valor 24, se han encontrado 784 soluciones\n",
            "2.663618326187134\n",
            "Para el valor 25, se han encontrado 1312 soluciones\n",
            "2.68800950050354\n",
            "Para el valor 26, se han encontrado 1048 soluciones\n",
            "2.659947395324707\n",
            "Para el valor 27, se han encontrado 680 soluciones\n",
            "2.692277431488037\n",
            "Para el valor 28, se han encontrado 808 soluciones\n",
            "2.671731472015381\n",
            "Para el valor 29, se han encontrado 976 soluciones\n",
            "2.6766538619995117\n",
            "Para el valor 30, se han encontrado 752 soluciones\n",
            "2.652092456817627\n",
            "Para el valor 31, se han encontrado 880 soluciones\n",
            "2.6664345264434814\n",
            "Para el valor 32, se han encontrado 472 soluciones\n",
            "2.671269416809082\n",
            "Para el valor 33, se han encontrado 648 soluciones\n",
            "2.704559326171875\n",
            "Para el valor 34, se han encontrado 704 soluciones\n",
            "2.6766819953918457\n",
            "Para el valor 35, se han encontrado 688 soluciones\n",
            "2.663233757019043\n",
            "Para el valor 36, se han encontrado 560 soluciones\n",
            "2.6683712005615234\n",
            "Para el valor 37, se han encontrado 616 soluciones\n",
            "2.7009308338165283\n",
            "Para el valor 38, se han encontrado 488 soluciones\n",
            "2.6565349102020264\n",
            "Para el valor 39, se han encontrado 568 soluciones\n",
            "2.6746604442596436\n",
            "Para el valor 40, se han encontrado 400 soluciones\n",
            "2.6708147525787354\n",
            "Para el valor 41, se han encontrado 680 soluciones\n",
            "2.6941535472869873\n",
            "Para el valor 42, se han encontrado 376 soluciones\n",
            "2.7296805381774902\n",
            "Para el valor 43, se han encontrado 488 soluciones\n",
            "2.689069986343384\n",
            "Para el valor 44, se han encontrado 424 soluciones\n",
            "2.716501235961914\n",
            "Para el valor 45, se han encontrado 304 soluciones\n",
            "2.7192838191986084\n",
            "Para el valor 46, se han encontrado 432 soluciones\n",
            "2.724339485168457\n",
            "Para el valor 47, se han encontrado 376 soluciones\n",
            "2.7219858169555664\n",
            "Para el valor 48, se han encontrado 192 soluciones\n",
            "2.7732598781585693\n",
            "Para el valor 49, se han encontrado 424 soluciones\n",
            "2.692906379699707\n",
            "Para el valor 50, se han encontrado 344 soluciones\n",
            "2.651841163635254\n",
            "Para el valor 51, se han encontrado 280 soluciones\n",
            "2.679734230041504\n",
            "Para el valor 52, se han encontrado 240 soluciones\n",
            "2.7158548831939697\n",
            "Para el valor 53, se han encontrado 368 soluciones\n",
            "2.694258689880371\n",
            "Para el valor 54, se han encontrado 200 soluciones\n",
            "2.672983169555664\n",
            "Para el valor 55, se han encontrado 392 soluciones\n",
            "2.667621374130249\n",
            "Para el valor 56, se han encontrado 128 soluciones\n",
            "2.7028448581695557\n",
            "Para el valor 57, se han encontrado 352 soluciones\n",
            "2.7203640937805176\n",
            "Para el valor 58, se han encontrado 240 soluciones\n",
            "2.6424310207366943\n",
            "Para el valor 59, se han encontrado 280 soluciones\n",
            "2.6642911434173584\n",
            "Para el valor 60, se han encontrado 240 soluciones\n",
            "2.7078051567077637\n",
            "Para el valor 61, se han encontrado 192 soluciones\n",
            "2.6676905155181885\n",
            "Para el valor 62, se han encontrado 232 soluciones\n",
            "2.664280414581299\n",
            "Para el valor 63, se han encontrado 112 soluciones\n",
            "2.6677372455596924\n",
            "Para el valor 64, se han encontrado 192 soluciones\n",
            "2.795438051223755\n",
            "Para el valor 65, se han encontrado 160 soluciones\n",
            "2.6848971843719482\n",
            "Para el valor 66, se han encontrado 128 soluciones\n",
            "2.652602434158325\n",
            "Para el valor 67, se han encontrado 128 soluciones\n",
            "2.674205780029297\n",
            "Para el valor 68, se han encontrado 120 soluciones\n",
            "2.6905248165130615\n",
            "Para el valor 69, se han encontrado 160 soluciones\n",
            "2.7044384479522705\n",
            "Para el valor 70, se han encontrado 152 soluciones\n",
            "2.6683290004730225\n",
            "Para el valor 71, se han encontrado 192 soluciones\n",
            "2.6638684272766113\n",
            "Para el valor 72, se han encontrado 32 soluciones\n",
            "2.6981658935546875\n",
            "Para el valor 73, se han encontrado 192 soluciones\n",
            "2.6778814792633057\n",
            "Para el valor 74, se han encontrado 152 soluciones\n",
            "2.673637866973877\n",
            "Para el valor 75, se han encontrado 112 soluciones\n",
            "2.700792074203491\n",
            "Para el valor 76, se han encontrado 80 soluciones\n",
            "2.6624653339385986\n",
            "Para el valor 77, se han encontrado 48 soluciones\n"
          ],
          "name": "stdout"
        }
      ]
    },
    {
      "cell_type": "markdown",
      "metadata": {
        "id": "zy5ZROmjlGo1",
        "colab_type": "text"
      },
      "source": [
        "Aplica el algoritmo al juego de datos generado"
      ]
    },
    {
      "cell_type": "markdown",
      "metadata": {
        "id": "_Cmj-PVylMsa",
        "colab_type": "text"
      },
      "source": [
        "Respuesta"
      ]
    },
    {
      "cell_type": "markdown",
      "metadata": {
        "colab_type": "text",
        "id": "eTFWUJQrtGcv"
      },
      "source": [
        "Enumera las referencias que has utilizado(si ha sido necesario) para llevar a cabo el trabajo"
      ]
    },
    {
      "cell_type": "markdown",
      "metadata": {
        "id": "YKQ_mRBttWsP",
        "colab_type": "text"
      },
      "source": [
        "Respuesta \n",
        "\n",
        "*   Apuntes de la asignatura de Optimizacion de Algoritmos.\n",
        "* https://www.geeksforgeeks.org/backtracking-algorithms/\n",
        "* https://docs.python.org/2/library/itertools.html\n",
        "\n"
      ]
    },
    {
      "cell_type": "markdown",
      "metadata": {
        "id": "kAkDPUyRtYyH",
        "colab_type": "text"
      },
      "source": [
        "Describe brevemente las lineas de como crees que es posible avanzar en el estudio del problema. Ten en cuenta incluso posibles variaciones del problema y/o variaciones al alza del tamaño"
      ]
    },
    {
      "cell_type": "markdown",
      "metadata": {
        "id": "IE0uZmo-tZu-",
        "colab_type": "text"
      },
      "source": [
        "Respuesta Segun lo desarrollado la solucion esta basada en un arbol de deciciones dado que cada ecuacion puede llevar al objetivo o no. dentro de las variaciones podrian ser el numero de cifras(actualmente 9) asi como el numero de operadores. el algoritmo a desarrollarse debe buscar en forma eficiente que nodos visitar y cuales no."
      ]
    }
  ]
}