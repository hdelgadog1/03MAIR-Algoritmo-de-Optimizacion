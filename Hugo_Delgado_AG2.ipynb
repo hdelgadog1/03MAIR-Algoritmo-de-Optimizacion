{
  "nbformat": 4,
  "nbformat_minor": 0,
  "metadata": {
    "colab": {
      "name": "Hugo Delgado - AG2.ipynb",
      "provenance": [],
      "collapsed_sections": [],
      "authorship_tag": "ABX9TyM25jryY/xhqzJ5kxInMf6N",
      "include_colab_link": true
    },
    "kernelspec": {
      "name": "python3",
      "display_name": "Python 3"
    }
  },
  "cells": [
    {
      "cell_type": "markdown",
      "metadata": {
        "id": "view-in-github",
        "colab_type": "text"
      },
      "source": [
        "<a href=\"https://colab.research.google.com/github/hdelgadog1/03MAIR-Algoritmo-de-Optimizacion/blob/master/Hugo_Delgado_AG2.ipynb\" target=\"_parent\"><img src=\"https://colab.research.google.com/assets/colab-badge.svg\" alt=\"Open In Colab\"/></a>"
      ]
    },
    {
      "cell_type": "code",
      "metadata": {
        "id": "9b7eYl3XRvPk",
        "colab_type": "code",
        "colab": {}
      },
      "source": [
        "# Nombre : Hugo Delgado\n",
        "https://colab.research.google.com/drive/1RIg0yoR8yZ4f7BkOGHEdh4LTVdZ95_uW?usp=sharing\n"
      ],
      "execution_count": null,
      "outputs": []
    },
    {
      "cell_type": "code",
      "metadata": {
        "id": "EsE-wG4EeFBG",
        "colab_type": "code",
        "colab": {}
      },
      "source": [
        "#Programacion Dinamica\n",
        "#Problema Viaje por el rio\n",
        "#Este problema tiene una complejidad O(n^3) dado que se observa 3 bucles\n",
        "\n",
        "TARIFAS = [\n",
        "[0,5,4,3,999,999,999],\n",
        "[999,0,999,2,3,999,11],\n",
        "[999,999, 0,1,999,4,10],\n",
        "[999,999,999, 0,5,6,9],\n",
        "[999,999, 999,999,0,999,4],\n",
        "[999,999, 999,999,999,0,3],\n",
        "[999,999,999,999,999,999,0]\n",
        "]"
      ],
      "execution_count": null,
      "outputs": []
    },
    {
      "cell_type": "code",
      "metadata": {
        "id": "SgilDrTehn6v",
        "colab_type": "code",
        "colab": {
          "base_uri": "https://localhost:8080/",
          "height": 91
        },
        "outputId": "59b6328e-bcdf-4a6a-e7a8-9832978313b9"
      },
      "source": [
        "def Precios(TARIFAS):\n",
        "\n",
        "  N=len(TARIFAS[0])\n",
        "\n",
        "  PRECIOS = [[9999] * N for i in [9999]*N]\n",
        "  RUTA = [[\"\"]*N for i in [\"\"]*N]\n",
        "\n",
        "  for i in range(N-1):\n",
        "    for j in range(i+1,N):\n",
        "      MIN = TARIFAS[i][j]\n",
        "      RUTA[i][j] = i\n",
        "\n",
        "      for k in range(i,j):\n",
        "        if PRECIOS[i][k] + TARIFAS[k][j] < MIN:\n",
        "          MIN = PRECIOS[i][k]+TARIFAS[k][j]\n",
        "          RUTA[i][j]=k\n",
        "      PRECIOS[i][j] = MIN\n",
        "  return PRECIOS,RUTA\n",
        "\n",
        "PRECIOS,RUTA = Precios(TARIFAS)\n",
        "\n",
        "print(PRECIOS)\n",
        "print(RUTA)\n",
        "\n",
        "def calcular_ruta(RUTA,desde,hasta):\n",
        "  if desde == hasta:\n",
        "    return desde\n",
        "  else:\n",
        "    return str(calcular_ruta(RUTA,desde,RUTA[desde][hasta])) + ' - ' + str(RUTA[desde][hasta])\n",
        "\n",
        "calcular_ruta(RUTA,0,6)"
      ],
      "execution_count": null,
      "outputs": [
        {
          "output_type": "stream",
          "text": [
            "[[9999, 5, 4, 3, 8, 8, 11], [9999, 9999, 999, 2, 3, 8, 7], [9999, 9999, 9999, 1, 6, 4, 7], [9999, 9999, 9999, 9999, 5, 6, 9], [9999, 9999, 9999, 9999, 9999, 999, 4], [9999, 9999, 9999, 9999, 9999, 9999, 3], [9999, 9999, 9999, 9999, 9999, 9999, 9999]]\n",
            "[['', 0, 0, 0, 1, 2, 5], ['', '', 1, 1, 1, 3, 4], ['', '', '', 2, 3, 2, 5], ['', '', '', '', 3, 3, 3], ['', '', '', '', '', 4, 4], ['', '', '', '', '', '', 5], ['', '', '', '', '', '', '']]\n"
          ],
          "name": "stdout"
        },
        {
          "output_type": "execute_result",
          "data": {
            "text/plain": [
              "'0 - 0 - 2 - 5'"
            ]
          },
          "metadata": {
            "tags": []
          },
          "execution_count": 11
        }
      ]
    },
    {
      "cell_type": "code",
      "metadata": {
        "id": "-FP9fnmGsHcT",
        "colab_type": "code",
        "colab": {}
      },
      "source": [
        "# Problema de Asignacion de tares. Ramificacion y poda\n",
        "\n",
        "import itertools\n",
        "from functools import wraps\n",
        "\n",
        "def calcular_tiempo(f):\n",
        "    @wraps(f)\n",
        "    def cronometro(*args, **kwargs):\n",
        "        t_inicial = time()\n",
        "        salida = f(*args, **kwargs)\n",
        "        t_final = time()\n",
        "        print('Tiempo transcurrido (en segundos): {}'.format(t_final - t_inicial))\n",
        "        return salida\n",
        "    return cronometro\n",
        "\n",
        "COSTES=[[11,12,18,40],\n",
        "        [14,15,13,22],\n",
        "        [11,17,19,23],\n",
        "        [17,14,20,28]]        "
      ],
      "execution_count": null,
      "outputs": []
    },
    {
      "cell_type": "code",
      "metadata": {
        "id": "_ha37zmb2AUq",
        "colab_type": "code",
        "colab": {
          "base_uri": "https://localhost:8080/",
          "height": 35
        },
        "outputId": "faf932c3-62b2-47c3-848e-c94fd661a0fe"
      },
      "source": [
        "def valor(S,COSTES):\n",
        "  VALOR = 0\n",
        "  for i in range(len(S)):\n",
        "    VALOR += COSTES[S[i]][i]\n",
        "  return VALOR\n",
        "\n",
        "valor((0,1,2,3),COSTES)"
      ],
      "execution_count": null,
      "outputs": [
        {
          "output_type": "execute_result",
          "data": {
            "text/plain": [
              "73"
            ]
          },
          "metadata": {
            "tags": []
          },
          "execution_count": 5
        }
      ]
    },
    {
      "cell_type": "code",
      "metadata": {
        "id": "hzfh48GF3jjg",
        "colab_type": "code",
        "colab": {
          "base_uri": "https://localhost:8080/",
          "height": 35
        },
        "outputId": "4b489866-01a3-4afa-eddc-2192a935520a"
      },
      "source": [
        "def fuerza_bruta(COSTES):\n",
        "  mejor_valor = 10e10\n",
        "  mejor_solucion= ''\n",
        "\n",
        "  for S in list(itertools.permutations(range(len(COSTES)))):\n",
        "    valor_temp = valor(S,COSTES)\n",
        "    if valor_temp < mejor_valor:\n",
        "      mejor_solucion = S\n",
        "      mejor_valor = valor_temp\n",
        "  print(\"La mejor solucion es:\" , mejor_solucion)\n",
        "\n",
        "fuerza_bruta(COSTES)"
      ],
      "execution_count": null,
      "outputs": [
        {
          "output_type": "stream",
          "text": [
            "La mejor solucion es: (0, 3, 1, 2)\n"
          ],
          "name": "stdout"
        }
      ]
    },
    {
      "cell_type": "code",
      "metadata": {
        "id": "s5OVp8P07Skg",
        "colab_type": "code",
        "colab": {
          "base_uri": "https://localhost:8080/",
          "height": 35
        },
        "outputId": "ff63fb08-96b5-4cd8-95b9-9d7817fe15c2"
      },
      "source": [
        "def CI(S,COSTES):\n",
        "  VALOR = 0\n",
        "\n",
        "  for i in range(len(S)):\n",
        "    VALOR += COSTES[i][S[i]]\n",
        "\n",
        "  #estimaciones\n",
        "\n",
        "  for i in range(len(COSTES)):\n",
        "    if i not in S:\n",
        "      VALOR += min([COSTES[i][j] for j in range(len(S), len(COSTES))]) \n",
        "\n",
        "  return VALOR\n",
        "\n",
        "# (0,2)-> (0,2,1),(0,2,3)\n",
        "# {'S':(0,2),'ci':34}\n",
        "\n",
        "def crear_hijos(NODO,N):\n",
        "  HIJOS = []\n",
        "  for i in range(N):\n",
        "    if i not in NODO:\n",
        "      HIJOS.append({'s':NODO+(i,)})\n",
        "  return HIJOS\n",
        "crear_hijos((0,2),4)\n",
        "\n",
        "\n"
      ],
      "execution_count": null,
      "outputs": [
        {
          "output_type": "execute_result",
          "data": {
            "text/plain": [
              "[{'s': (0, 2, 1)}, {'s': (0, 2, 3)}]"
            ]
          },
          "metadata": {
            "tags": []
          },
          "execution_count": 7
        }
      ]
    },
    {
      "cell_type": "code",
      "metadata": {
        "id": "oTRAnmAJCRlX",
        "colab_type": "code",
        "colab": {
          "base_uri": "https://localhost:8080/",
          "height": 912
        },
        "outputId": "23044ad2-1f91-4e47-f972-2da60c76e9d4"
      },
      "source": [
        "def ramificacion_y_poda(COSTES):\n",
        "  DIMENSION = len(COSTES)\n",
        "  #(0,1,2,3)\n",
        "  MEJOR_SOLUCION = tuple(i for i in range (DIMENSION))\n",
        "\n",
        "  CotaSup = valor(MEJOR_SOLUCION,COSTES)\n",
        "\n",
        "  NODOS=[]\n",
        "  NODOS.append({'s':(),'ci': CI((),COSTES)})\n",
        "#  NODOS.append({'s':(1),'ci': 34})\n",
        " # print(NODOS)\n",
        "\n",
        "  iteracion = 0\n",
        "\n",
        "  while(len(NODOS)>0):\n",
        "    iteracion +=1\n",
        "    print('\\n#',iteracion)\n",
        "\n",
        "    nodo_prometedor = min(NODOS, key = lambda x : x['ci'])\n",
        "\n",
        "    #Hijos\n",
        "    HIJOS = [{'s':x['s'],'ci':CI(x['s'],COSTES)} for x in crear_hijos(nodo_prometedor['s'],DIMENSION)]\n",
        "\n",
        "    NODO_FINAL = [x for x in HIJOS if len(x['s'])== DIMENSION]\n",
        "    if len (NODO_FINAL) > 0:\n",
        "      if NODO_FINAL[0]['ci'] < CotaSup:\n",
        "        CotaSup = NODO_FINAL[0]['ci']\n",
        "        MEJOR_SOLUCION = NODO_FINAL[0]\n",
        "    \n",
        "    #poda\n",
        "    HIJOS = [x for x in HIJOS if x['ci']< CotaSup]\n",
        "\n",
        "    #eliminamos el nodo expandido\n",
        "    NODOS = [x for x in NODOS if x['s'] != nodo_prometedor['s']]\n",
        "\n",
        "    #Anadimos los hijos\n",
        "    NODOS.extend(HIJOS)\n",
        "    print(NODOS)\n",
        "\n",
        "  print(\"La mejor solucion es\",MEJOR_SOLUCION)\n",
        "\n",
        "\n",
        "ramificacion_y_poda(COSTES)"
      ],
      "execution_count": null,
      "outputs": [
        {
          "output_type": "stream",
          "text": [
            "\n",
            "# 1\n",
            "[{'s': (0,), 'ci': 55}, {'s': (1,), 'ci': 55}, {'s': (2,), 'ci': 57}]\n",
            "\n",
            "# 2\n",
            "[{'s': (1,), 'ci': 55}, {'s': (2,), 'ci': 57}, {'s': (0, 1), 'ci': 65}, {'s': (0, 2), 'ci': 57}, {'s': (0, 3), 'ci': 65}]\n",
            "\n",
            "# 3\n",
            "[{'s': (2,), 'ci': 57}, {'s': (0, 1), 'ci': 65}, {'s': (0, 2), 'ci': 57}, {'s': (0, 3), 'ci': 65}, {'s': (1, 0), 'ci': 65}, {'s': (1, 2), 'ci': 63}, {'s': (1, 3), 'ci': 71}]\n",
            "\n",
            "# 4\n",
            "[{'s': (0, 1), 'ci': 65}, {'s': (0, 2), 'ci': 57}, {'s': (0, 3), 'ci': 65}, {'s': (1, 0), 'ci': 65}, {'s': (1, 2), 'ci': 63}, {'s': (1, 3), 'ci': 71}, {'s': (2, 0), 'ci': 65}, {'s': (2, 1), 'ci': 71}, {'s': (2, 3), 'ci': 71}]\n",
            "\n",
            "# 5\n",
            "[{'s': (0, 1), 'ci': 65}, {'s': (0, 3), 'ci': 65}, {'s': (1, 0), 'ci': 65}, {'s': (1, 2), 'ci': 63}, {'s': (1, 3), 'ci': 71}, {'s': (2, 0), 'ci': 65}, {'s': (2, 1), 'ci': 71}, {'s': (2, 3), 'ci': 71}, {'s': (0, 2, 1), 'ci': 69}, {'s': (0, 2, 3), 'ci': 69}]\n",
            "\n",
            "# 6\n",
            "[{'s': (0, 1), 'ci': 65}, {'s': (0, 3), 'ci': 65}, {'s': (1, 0), 'ci': 65}, {'s': (1, 3), 'ci': 71}, {'s': (2, 0), 'ci': 65}, {'s': (2, 1), 'ci': 71}, {'s': (2, 3), 'ci': 71}, {'s': (0, 2, 1), 'ci': 69}, {'s': (0, 2, 3), 'ci': 69}, {'s': (1, 2, 0), 'ci': 64}]\n",
            "\n",
            "# 7\n",
            "[{'s': (0, 1), 'ci': 65}, {'s': (0, 3), 'ci': 65}, {'s': (1, 0), 'ci': 65}, {'s': (1, 3), 'ci': 71}, {'s': (2, 0), 'ci': 65}, {'s': (2, 1), 'ci': 71}, {'s': (2, 3), 'ci': 71}, {'s': (0, 2, 1), 'ci': 69}, {'s': (0, 2, 3), 'ci': 69}]\n",
            "\n",
            "# 8\n",
            "[{'s': (0, 3), 'ci': 65}, {'s': (1, 0), 'ci': 65}, {'s': (1, 3), 'ci': 71}, {'s': (2, 0), 'ci': 65}, {'s': (2, 1), 'ci': 71}, {'s': (2, 3), 'ci': 71}, {'s': (0, 2, 1), 'ci': 69}, {'s': (0, 2, 3), 'ci': 69}]\n",
            "\n",
            "# 9\n",
            "[{'s': (1, 0), 'ci': 65}, {'s': (1, 3), 'ci': 71}, {'s': (2, 0), 'ci': 65}, {'s': (2, 1), 'ci': 71}, {'s': (2, 3), 'ci': 71}, {'s': (0, 2, 1), 'ci': 69}, {'s': (0, 2, 3), 'ci': 69}]\n",
            "\n",
            "# 10\n",
            "[{'s': (1, 3), 'ci': 71}, {'s': (2, 0), 'ci': 65}, {'s': (2, 1), 'ci': 71}, {'s': (2, 3), 'ci': 71}, {'s': (0, 2, 1), 'ci': 69}, {'s': (0, 2, 3), 'ci': 69}]\n",
            "\n",
            "# 11\n",
            "[{'s': (1, 3), 'ci': 71}, {'s': (2, 1), 'ci': 71}, {'s': (2, 3), 'ci': 71}, {'s': (0, 2, 1), 'ci': 69}, {'s': (0, 2, 3), 'ci': 69}]\n",
            "\n",
            "# 12\n",
            "[{'s': (1, 3), 'ci': 71}, {'s': (2, 1), 'ci': 71}, {'s': (2, 3), 'ci': 71}, {'s': (0, 2, 3), 'ci': 69}]\n",
            "\n",
            "# 13\n",
            "[{'s': (1, 3), 'ci': 71}, {'s': (2, 1), 'ci': 71}, {'s': (2, 3), 'ci': 71}]\n",
            "\n",
            "# 14\n",
            "[{'s': (2, 1), 'ci': 71}, {'s': (2, 3), 'ci': 71}]\n",
            "\n",
            "# 15\n",
            "[{'s': (2, 3), 'ci': 71}]\n",
            "\n",
            "# 16\n",
            "[]\n",
            "La mejor solucion es {'s': (0, 2, 3, 1), 'ci': 61}\n"
          ],
          "name": "stdout"
        }
      ]
    },
    {
      "cell_type": "code",
      "metadata": {
        "id": "0LLzjUPHKQlT",
        "colab_type": "code",
        "colab": {}
      },
      "source": [
        "# Descenso del gradiente\n",
        "import math\n",
        "import matplotlib.pyplot as plt\n",
        "import numpy as np\n",
        "import scipy as sc\n",
        "import random"
      ],
      "execution_count": null,
      "outputs": []
    },
    {
      "cell_type": "code",
      "metadata": {
        "id": "_3uiGKmOKzqX",
        "colab_type": "code",
        "colab": {}
      },
      "source": [
        "f = lambda X: X[0]**2+X[1]**2\n",
        "df = lambda X:[2*X[0], 2*X[1]]\n"
      ],
      "execution_count": null,
      "outputs": []
    },
    {
      "cell_type": "code",
      "metadata": {
        "id": "n784jl08LusT",
        "colab_type": "code",
        "colab": {
          "base_uri": "https://localhost:8080/",
          "height": 282
        },
        "outputId": "7e84d224-7577-4943-b077-f0c42ccd307f"
      },
      "source": [
        "# preparar los datos para dibujar mapa de niveles de Z\n",
        "resolucion = 100\n",
        "rango = 2.5\n",
        "X = np.linspace(-rango,rango,resolucion)\n",
        "Y = np.linspace(-rango,rango,resolucion)\n",
        "Z = np.zeros((resolucion, resolucion))\n",
        "\n",
        "for ix,x in enumerate(X):\n",
        "  for iy,y in enumerate(Y):\n",
        "    Z[iy,ix] = f([x,y])\n",
        "\n",
        "# mapa de niveles Z\n",
        "\n",
        "plt.contourf(X,Y,Z,resolucion)\n",
        "plt.colorbar()\n",
        "# punto aleatorio\n",
        "\n",
        "P = [random.uniform(-2,2 ),random.uniform(-2,2 ) ]\n",
        "plt.plot(P[0],P[1],\"o\",c = \"white\")\n",
        "#taza de aprendizaje\n",
        "TA = .1\n",
        "#iteraciones\n",
        "\n",
        "for _ in range(500):\n",
        "  grad = df(P)\n",
        "  #print(P.grad)\n",
        "  P[0],P[1] = P[0] - TA*grad[0],P[1] - TA*grad[1]\n",
        "  plt.plot(P[0],P[1],\"o\",c=\"red\")\n",
        "\n",
        "plt.plot(P[0],P[1],\"o\",c=\"green\")\n",
        "plt.show()\n",
        "print(\"Solucion: \", P, f(P) )"
      ],
      "execution_count": null,
      "outputs": [
        {
          "output_type": "display_data",
          "data": {
            "image/png": "[encoded data removed]",
            "text/plain": [
              "<Figure size 432x288 with 2 Axes>"
            ]
          },
          "metadata": {
            "tags": [],
            "needs_background": "light"
          }
        },
        {
          "output_type": "stream",
          "text": [
            "Solucion:  [-3.553431590273902e-49, -3.555775379208733e-49] 2.527041461414352e-97\n"
          ],
          "name": "stdout"
        }
      ]
    },
    {
      "cell_type": "code",
      "metadata": {
        "id": "j53fOrP3Pnhz",
        "colab_type": "code",
        "colab": {
          "base_uri": "https://localhost:8080/",
          "height": 34
        },
        "outputId": "90eaa0cd-4ba6-40bf-c5d9-083d5ede1dee"
      },
      "source": [
        "# Otra funcion a minimizar\n",
        "# sin(1/2*x^2-1/4*y^2+3) * cos(2*x+1-E^y)\n",
        "f = lambda X: np.sin(1/2 * X[0]**2 - 1/4 * X[1]**2 + 3) * np.cos(2 * X[0] + 1 - np.e**X[1])\n",
        "def df(PUNTO):\n",
        "  h = 0.01\n",
        "  T = np.copy(PUNTO)\n",
        "  grad = np.zeros(2)\n",
        "  for ir, th in enumerate(PUNTO):\n",
        "    T[it] = T[it] + h\n",
        "    grad[it] = (f(T)-f(PUNTO))/h\n",
        "    return grad\n",
        "\n",
        "\n",
        "\n"
      ],
      "execution_count": null,
      "outputs": [
        {
          "output_type": "execute_result",
          "data": {
            "text/plain": [
              "<function __main__.<lambda>>"
            ]
          },
          "metadata": {
            "tags": []
          },
          "execution_count": 21
        }
      ]
    }
  ]
}